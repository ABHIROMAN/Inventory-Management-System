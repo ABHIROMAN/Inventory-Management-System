{
 "cells": [
  {
   "cell_type": "code",
   "execution_count": 7,
   "metadata": {},
   "outputs": [],
   "source": [
    "records = {1101: {\"item\": \"Toothpaste\", \"price\": 25, \"quantity\": 30, \"category\": \"Toiletry\", \"expiry\": 2},\n",
    "           1102: {\"item\": \"Carrots\", \"price\": 50, \"quantity\": 24, \"category\": \"Food\", \"expiry\": 1},\n",
    "           1103: {\"item\": \"Soap\", \"price\": 32, \"quantity\": 15, \"category\": \"Toiletry\", \"expiry\": 6},\n",
    "           1104: {\"item\": \"Tomatoes\", \"price\": 40, \"quantity\": 12, \"category\": \"Food\", \"expiry\": 1},\n",
    "           1105: {\"item\": \"Bananas\", \"price\": 20, \"quantity\": 10, \"category\": \"Food\", \"expiry\": 2},\n",
    "           1106: {\"item\": \"Socks\", \"price\": 56, \"quantity\": 15, \"category\": \"Apparel\", \"expiry\": 36},\n",
    "           1107: {\"item\": \"T-Shirt\", \"price\": 2500, \"quantity\": 10, \"category\": \"Apparel\", \"expiry\": 42},\n",
    "           1108: {\"item\": \"Clips\", \"price\": 5, \"quantity\": 30, \"category\": \"Household\", \"expiry\": 0},\n",
    "           1109: {\"item\": \"Face-wash\", \"price\": 200, \"quantity\": 5, \"category\": \"Toiletry\", \"expiry\": 6},\n",
    "           1110: {\"item\": \"Shampoo\", \"price\": 190, \"quantity\": 14, \"category\": \"Toiletry\", \"expiry\": 9},\n",
    "           1111: {\"item\": \"Maggi\", \"price\": 25, \"quantity\": 20, \"category\": \"Food\", \"expiry\": 12},\n",
    "           1112: {\"item\": \"Chips\", \"price\": 15, \"quantity\": 22, \"category\": \"Food\", \"expiry\": 12},\n",
    "           1113: {\"item\": \"Handwash\", \"price\": 150, \"quantity\": 15, \"category\": \"Toiletry\", \"expiry\": 8},\n",
    "           1114: {\"item\": \"Eggs\", \"price\": 10, \"quantity\": 30, \"category\": \"Food\", \"expiry\": 1},\n",
    "           1115: {\"item\": \"Trousers\", \"price\": 870, \"quantity\": 8, \"category\": \"Apparel\", \"expiry\": 0},\n",
    "           1116: {\"item\": \"Batteries\", \"price\": 14, \"quantity\": 23, \"category\": \"Utilities\", \"expiry\": 15},\n",
    "           1117: {\"item\": \"USB Cable\", \"price\": 85, \"quantity\": 15, \"category\": \"Electronics\", \"expiry\": 24},\n",
    "           1118: {\"item\": \"Ball pens\", \"price\": 12, \"quantity\": 8, \"category\": \"Stationery\", \"expiry\": 12},\n",
    "           1119: {\"item\": \"Biscuits\", \"price\": 22, \"quantity\": 10, \"category\": \"Food\", \"expiry\": 6},\n",
    "           1120: {\"item\": \"Phone Charger\", \"price\": 250, \"quantity\": 5, \"category\": \"Utilities\", \"expiry\": 48},\n",
    "           1121: {\"item\": \"Razor\", \"price\": 150, \"quantity\": 6, \"category\": \"Grooming\", \"expiry\": 34},\n",
    "           1122: {\"item\": \"Earphones\", \"price\": 210, \"quantity\": 15, \"category\": \"Electronics\", \"expiry\": 36},\n",
    "           1123: {\"item\": \"Pencils\", \"price\": 5, \"quantity\": 30, \"category\": \"Stationery\", \"expiry\": 24},\n",
    "           1124: {\"item\": \"5 star\", \"price\": 20, \"quantity\": 50, \"category\": \"Food\", \"expiry\": 15},\n",
    "           1125: {\"item\": \"Curd\", \"price\": 32, \"quantity\": 12, \"category\": \"Food\", \"expiry\": 1},\n",
    "           1126: {\"item\": \"Dongle\", \"price\": 750, \"quantity\": 5, \"category\": \"Electronics\", \"expiry\": 48},\n",
    "           1127: {\"item\": \"A4 sheets\", \"price\": 250, \"quantity\": 3, \"category\": \"Stationery\", \"expiry\": 36},\n",
    "           1128: {\"item\": \"Nutella\", \"price\": 350, \"quantity\": 20, \"category\": \"Food\", \"expiry\": 10},\n",
    "           1129: {\"item\": \"Diary Milk\", \"price\": 25, \"quantity\": 14, \"category\": \"Food\", \"expiry\": 12},\n",
    "           1130: {\"item\": \"Notebooks\", \"price\": 150, \"quantity\": 17, \"category\": \"Stationery\", \"expiry\": 60}}"
   ]
  },
  {
   "cell_type": "code",
   "execution_count": 14,
   "metadata": {},
   "outputs": [],
   "source": [
    "import json"
   ]
  },
  {
   "cell_type": "code",
   "execution_count": 15,
   "metadata": {},
   "outputs": [],
   "source": [
    "js = json.dumps(records)"
   ]
  },
  {
   "cell_type": "code",
   "execution_count": 16,
   "metadata": {},
   "outputs": [],
   "source": [
    "fd = open(\"records.json\",'w')\n",
    "\n",
    "fd.write(js)\n",
    "\n",
    "fd.close()"
   ]
  },
  {
   "cell_type": "code",
   "execution_count": 17,
   "metadata": {},
   "outputs": [],
   "source": [
    "fd = open(\"records.json\",'r')\n",
    "\n",
    "a = fd.read()\n",
    "\n",
    "fd.close()"
   ]
  },
  {
   "cell_type": "code",
   "execution_count": 20,
   "metadata": {},
   "outputs": [
    {
     "data": {
      "text/plain": [
       "'{\"1101\": {\"item\": \"Toothpaste\", \"price\": 25, \"quantity\": 30, \"category\": \"Toiletry\", \"expiry\": 2}, \"1102\": {\"item\": \"Carrots\", \"price\": 50, \"quantity\": 24, \"category\": \"Food\", \"expiry\": 1}, \"1103\": {\"item\": \"Soap\", \"price\": 32, \"quantity\": 15, \"category\": \"Toiletry\", \"expiry\": 6}, \"1104\": {\"item\": \"Tomatoes\", \"price\": 40, \"quantity\": 12, \"category\": \"Food\", \"expiry\": 1}, \"1105\": {\"item\": \"Bananas\", \"price\": 20, \"quantity\": 10, \"category\": \"Food\", \"expiry\": 2}, \"1106\": {\"item\": \"Socks\", \"price\": 56, \"quantity\": 15, \"category\": \"Apparel\", \"expiry\": 36}, \"1107\": {\"item\": \"T-Shirt\", \"price\": 2500, \"quantity\": 10, \"category\": \"Apparel\", \"expiry\": 42}, \"1108\": {\"item\": \"Clips\", \"price\": 5, \"quantity\": 30, \"category\": \"Household\", \"expiry\": 0}, \"1109\": {\"item\": \"Face-wash\", \"price\": 200, \"quantity\": 5, \"category\": \"Toiletry\", \"expiry\": 6}, \"1110\": {\"item\": \"Shampoo\", \"price\": 190, \"quantity\": 14, \"category\": \"Toiletry\", \"expiry\": 9}, \"1111\": {\"item\": \"Maggi\", \"price\": 25, \"quantity\": 20, \"category\": \"Food\", \"expiry\": 12}, \"1112\": {\"item\": \"Chips\", \"price\": 15, \"quantity\": 22, \"category\": \"Food\", \"expiry\": 12}, \"1113\": {\"item\": \"Handwash\", \"price\": 150, \"quantity\": 15, \"category\": \"Toiletry\", \"expiry\": 8}, \"1114\": {\"item\": \"Eggs\", \"price\": 10, \"quantity\": 30, \"category\": \"Food\", \"expiry\": 1}, \"1115\": {\"item\": \"Trousers\", \"price\": 870, \"quantity\": 8, \"category\": \"Apparel\", \"expiry\": 0}, \"1116\": {\"item\": \"Batteries\", \"price\": 14, \"quantity\": 23, \"category\": \"Utilities\", \"expiry\": 15}, \"1117\": {\"item\": \"USB Cable\", \"price\": 85, \"quantity\": 15, \"category\": \"Electronics\", \"expiry\": 24}, \"1118\": {\"item\": \"Ball pens\", \"price\": 12, \"quantity\": 8, \"category\": \"Stationery\", \"expiry\": 12}, \"1119\": {\"item\": \"Biscuits\", \"price\": 22, \"quantity\": 10, \"category\": \"Food\", \"expiry\": 6}, \"1120\": {\"item\": \"Phone Charger\", \"price\": 250, \"quantity\": 5, \"category\": \"Utilities\", \"expiry\": 48}, \"1121\": {\"item\": \"Razor\", \"price\": 150, \"quantity\": 6, \"category\": \"Grooming\", \"expiry\": 34}, \"1122\": {\"item\": \"Earphones\", \"price\": 210, \"quantity\": 15, \"category\": \"Electronics\", \"expiry\": 36}, \"1123\": {\"item\": \"Pencils\", \"price\": 5, \"quantity\": 30, \"category\": \"Stationery\", \"expiry\": 24}, \"1124\": {\"item\": \"5 star\", \"price\": 20, \"quantity\": 50, \"category\": \"Food\", \"expiry\": 15}, \"1125\": {\"item\": \"Curd\", \"price\": 32, \"quantity\": 12, \"category\": \"Food\", \"expiry\": 1}, \"1126\": {\"item\": \"Dongle\", \"price\": 750, \"quantity\": 5, \"category\": \"Electronics\", \"expiry\": 48}, \"1127\": {\"item\": \"A4 sheets\", \"price\": 250, \"quantity\": 3, \"category\": \"Stationery\", \"expiry\": 36}, \"1128\": {\"item\": \"Nutella\", \"price\": 350, \"quantity\": 20, \"category\": \"Food\", \"expiry\": 10}, \"1129\": {\"item\": \"Diary Milk\", \"price\": 25, \"quantity\": 14, \"category\": \"Food\", \"expiry\": 12}, \"1130\": {\"item\": \"Notebooks\", \"price\": 150, \"quantity\": 17, \"category\": \"Stationery\", \"expiry\": 60}}'"
      ]
     },
     "execution_count": 20,
     "metadata": {},
     "output_type": "execute_result"
    }
   ],
   "source": [
    "a"
   ]
  },
  {
   "cell_type": "code",
   "execution_count": 21,
   "metadata": {},
   "outputs": [],
   "source": [
    "records = json.loads(a)"
   ]
  },
  {
   "cell_type": "markdown",
   "metadata": {},
   "source": [
    "## Buying the Products"
   ]
  },
  {
   "cell_type": "code",
   "execution_count": 22,
   "metadata": {},
   "outputs": [
    {
     "name": "stdout",
     "output_type": "stream",
     "text": [
      "Enter the product id:1130\n",
      "Enter the quantity:2\n",
      "item: Notebooks\n",
      "price:  150\n",
      "Bill Amount:  300\n"
     ]
    }
   ],
   "source": [
    "product_id = str(input(\"Enter the product id:\"))\n",
    "quantity = int(input(\"Enter the quantity:\"))\n",
    "\n",
    "\n",
    "print(\"item:\", records[product_id]['item'])\n",
    "print(\"price: \", records[product_id]['price'])\n",
    "print(\"Bill Amount: \", records[product_id]['price'] * quantity)\n",
    "\n",
    "records[product_id]['quantity'] = records[product_id]['quantity'] - quantity"
   ]
  },
  {
   "cell_type": "markdown",
   "metadata": {},
   "source": [
    "## Updating the inventory after buying"
   ]
  },
  {
   "cell_type": "code",
   "execution_count": 23,
   "metadata": {},
   "outputs": [],
   "source": [
    "js = json.dumps(records)\n",
    "\n",
    "fd = open(\"records.json\",'w')\n",
    "fd.write(js)\n",
    "fd.close()"
   ]
  },
  {
   "cell_type": "code",
   "execution_count": 24,
   "metadata": {},
   "outputs": [
    {
     "data": {
      "text/plain": [
       "{'1101': {'item': 'Toothpaste',\n",
       "  'price': 25,\n",
       "  'quantity': 30,\n",
       "  'category': 'Toiletry',\n",
       "  'expiry': 2},\n",
       " '1102': {'item': 'Carrots',\n",
       "  'price': 50,\n",
       "  'quantity': 24,\n",
       "  'category': 'Food',\n",
       "  'expiry': 1},\n",
       " '1103': {'item': 'Soap',\n",
       "  'price': 32,\n",
       "  'quantity': 15,\n",
       "  'category': 'Toiletry',\n",
       "  'expiry': 6},\n",
       " '1104': {'item': 'Tomatoes',\n",
       "  'price': 40,\n",
       "  'quantity': 12,\n",
       "  'category': 'Food',\n",
       "  'expiry': 1},\n",
       " '1105': {'item': 'Bananas',\n",
       "  'price': 20,\n",
       "  'quantity': 10,\n",
       "  'category': 'Food',\n",
       "  'expiry': 2},\n",
       " '1106': {'item': 'Socks',\n",
       "  'price': 56,\n",
       "  'quantity': 15,\n",
       "  'category': 'Apparel',\n",
       "  'expiry': 36},\n",
       " '1107': {'item': 'T-Shirt',\n",
       "  'price': 2500,\n",
       "  'quantity': 10,\n",
       "  'category': 'Apparel',\n",
       "  'expiry': 42},\n",
       " '1108': {'item': 'Clips',\n",
       "  'price': 5,\n",
       "  'quantity': 30,\n",
       "  'category': 'Household',\n",
       "  'expiry': 0},\n",
       " '1109': {'item': 'Face-wash',\n",
       "  'price': 200,\n",
       "  'quantity': 5,\n",
       "  'category': 'Toiletry',\n",
       "  'expiry': 6},\n",
       " '1110': {'item': 'Shampoo',\n",
       "  'price': 190,\n",
       "  'quantity': 14,\n",
       "  'category': 'Toiletry',\n",
       "  'expiry': 9},\n",
       " '1111': {'item': 'Maggi',\n",
       "  'price': 25,\n",
       "  'quantity': 20,\n",
       "  'category': 'Food',\n",
       "  'expiry': 12},\n",
       " '1112': {'item': 'Chips',\n",
       "  'price': 15,\n",
       "  'quantity': 22,\n",
       "  'category': 'Food',\n",
       "  'expiry': 12},\n",
       " '1113': {'item': 'Handwash',\n",
       "  'price': 150,\n",
       "  'quantity': 15,\n",
       "  'category': 'Toiletry',\n",
       "  'expiry': 8},\n",
       " '1114': {'item': 'Eggs',\n",
       "  'price': 10,\n",
       "  'quantity': 30,\n",
       "  'category': 'Food',\n",
       "  'expiry': 1},\n",
       " '1115': {'item': 'Trousers',\n",
       "  'price': 870,\n",
       "  'quantity': 8,\n",
       "  'category': 'Apparel',\n",
       "  'expiry': 0},\n",
       " '1116': {'item': 'Batteries',\n",
       "  'price': 14,\n",
       "  'quantity': 23,\n",
       "  'category': 'Utilities',\n",
       "  'expiry': 15},\n",
       " '1117': {'item': 'USB Cable',\n",
       "  'price': 85,\n",
       "  'quantity': 15,\n",
       "  'category': 'Electronics',\n",
       "  'expiry': 24},\n",
       " '1118': {'item': 'Ball pens',\n",
       "  'price': 12,\n",
       "  'quantity': 8,\n",
       "  'category': 'Stationery',\n",
       "  'expiry': 12},\n",
       " '1119': {'item': 'Biscuits',\n",
       "  'price': 22,\n",
       "  'quantity': 10,\n",
       "  'category': 'Food',\n",
       "  'expiry': 6},\n",
       " '1120': {'item': 'Phone Charger',\n",
       "  'price': 250,\n",
       "  'quantity': 5,\n",
       "  'category': 'Utilities',\n",
       "  'expiry': 48},\n",
       " '1121': {'item': 'Razor',\n",
       "  'price': 150,\n",
       "  'quantity': 6,\n",
       "  'category': 'Grooming',\n",
       "  'expiry': 34},\n",
       " '1122': {'item': 'Earphones',\n",
       "  'price': 210,\n",
       "  'quantity': 15,\n",
       "  'category': 'Electronics',\n",
       "  'expiry': 36},\n",
       " '1123': {'item': 'Pencils',\n",
       "  'price': 5,\n",
       "  'quantity': 30,\n",
       "  'category': 'Stationery',\n",
       "  'expiry': 24},\n",
       " '1124': {'item': '5 star',\n",
       "  'price': 20,\n",
       "  'quantity': 50,\n",
       "  'category': 'Food',\n",
       "  'expiry': 15},\n",
       " '1125': {'item': 'Curd',\n",
       "  'price': 32,\n",
       "  'quantity': 12,\n",
       "  'category': 'Food',\n",
       "  'expiry': 1},\n",
       " '1126': {'item': 'Dongle',\n",
       "  'price': 750,\n",
       "  'quantity': 5,\n",
       "  'category': 'Electronics',\n",
       "  'expiry': 48},\n",
       " '1127': {'item': 'A4 sheets',\n",
       "  'price': 250,\n",
       "  'quantity': 3,\n",
       "  'category': 'Stationery',\n",
       "  'expiry': 36},\n",
       " '1128': {'item': 'Nutella',\n",
       "  'price': 350,\n",
       "  'quantity': 20,\n",
       "  'category': 'Food',\n",
       "  'expiry': 10},\n",
       " '1129': {'item': 'Diary Milk',\n",
       "  'price': 25,\n",
       "  'quantity': 14,\n",
       "  'category': 'Food',\n",
       "  'expiry': 12},\n",
       " '1130': {'item': 'Notebooks',\n",
       "  'price': 150,\n",
       "  'quantity': 15,\n",
       "  'category': 'Stationery',\n",
       "  'expiry': 60}}"
      ]
     },
     "execution_count": 24,
     "metadata": {},
     "output_type": "execute_result"
    }
   ],
   "source": [
    "records"
   ]
  },
  {
   "cell_type": "markdown",
   "metadata": {},
   "source": [
    "## Sales JSON"
   ]
  },
  {
   "cell_type": "code",
   "execution_count": null,
   "metadata": {},
   "outputs": [],
   "source": [
    "{'product' : product_id, 'quantity' : quantity, 'amount': records[product_id]['price'] * quantity}"
   ]
  },
  {
   "cell_type": "code",
   "execution_count": 25,
   "metadata": {},
   "outputs": [],
   "source": [
    "sales = {1101: {\"item\": \"Toothpaste\", \"price\": 25, \"quantity\": 2, \"category\": \"Toiletry\", \"expiry\": 2},\n",
    "           1102: {\"item\": \"Carrots\", \"price\": 50, \"quantity\": 3, \"category\": \"Food\", \"expiry\": 1},\n",
    "           1103: {\"item\": \"Soap\", \"price\": 32, \"quantity\": 1, \"category\": \"Toiletry\", \"expiry\": 6}}"
   ]
  },
  {
   "cell_type": "code",
   "execution_count": 26,
   "metadata": {},
   "outputs": [],
   "source": [
    "sale = json.dumps(sales)"
   ]
  },
  {
   "cell_type": "code",
   "execution_count": 27,
   "metadata": {},
   "outputs": [
    {
     "data": {
      "text/plain": [
       "'{\"1101\": {\"item\": \"Toothpaste\", \"price\": 25, \"quantity\": 2, \"category\": \"Toiletry\", \"expiry\": 2}, \"1102\": {\"item\": \"Carrots\", \"price\": 50, \"quantity\": 3, \"category\": \"Food\", \"expiry\": 1}, \"1103\": {\"item\": \"Soap\", \"price\": 32, \"quantity\": 1, \"category\": \"Toiletry\", \"expiry\": 6}}'"
      ]
     },
     "execution_count": 27,
     "metadata": {},
     "output_type": "execute_result"
    }
   ],
   "source": [
    "sale"
   ]
  },
  {
   "cell_type": "code",
   "execution_count": 29,
   "metadata": {},
   "outputs": [],
   "source": [
    "# Adding to json file of Sales\n",
    "fd = open(\"sales.json\",'w')\n",
    "fd.write(sale)\n",
    "fd.close()"
   ]
  }
 ],
 "metadata": {
  "kernelspec": {
   "display_name": "Python 3",
   "language": "python",
   "name": "python3"
  },
  "language_info": {
   "codemirror_mode": {
    "name": "ipython",
    "version": 3
   },
   "file_extension": ".py",
   "mimetype": "text/x-python",
   "name": "python",
   "nbconvert_exporter": "python",
   "pygments_lexer": "ipython3",
   "version": "3.8.5"
  }
 },
 "nbformat": 4,
 "nbformat_minor": 4
}
